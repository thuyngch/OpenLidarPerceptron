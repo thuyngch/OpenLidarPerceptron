{
 "cells": [
  {
   "cell_type": "markdown",
   "metadata": {},
   "source": [
    "# Libraries"
   ]
  },
  {
   "cell_type": "code",
   "execution_count": null,
   "metadata": {},
   "outputs": [],
   "source": [
    "import numpy as np\n",
    "import os, cv2, pickle, cvut\n",
    "from matplotlib import pyplot as plt\n",
    "\n",
    "from pcdet.utils import common_utils\n",
    "from pcdet.datasets import build_dataloader\n",
    "from pcdet.config import cfg, log_config_to_file, cfg_from_list, cfg_from_yaml_file\n",
    "\n",
    "# Move to the root directory\n",
    "if not 'workdir' in globals():\n",
    "    workdir = os.getcwd()\n",
    "    workdir = \"/\".join(workdir.split('/')[:-1])\n",
    "%cd \"$workdir\"\n",
    "\n",
    "# Create cache folder\n",
    "os.makedirs(\"cache\", exist_ok=True)"
   ]
  },
  {
   "cell_type": "markdown",
   "metadata": {},
   "source": [
    "# Load pickle result"
   ]
  },
  {
   "cell_type": "code",
   "execution_count": null,
   "metadata": {},
   "outputs": [],
   "source": [
    "infer_result_file = \"output/cfgs/kitti_models/pv_rcnn/default/eval/epoch_8369/val/default/result.pkl\"\n",
    "with open(infer_result_file, 'rb') as fp:\n",
    "    det_results = pickle.load(fp)\n",
    "\n",
    "print(\"Detection size:\", len(det_results))\n",
    "print(det_results[0].keys())\n",
    "print()\n",
    "for key, val in det_results[0].items():\n",
    "    print(key, val.shape)"
   ]
  },
  {
   "cell_type": "code",
   "execution_count": null,
   "metadata": {},
   "outputs": [],
   "source": [
    "obj_dix = 0\n",
    "print(\"frame_id:\", det_results[0]['frame_id'])\n",
    "print(\"name:\", det_results[0]['name'][obj_dix])\n",
    "print(\"truncated:\", det_results[0]['truncated'][obj_dix])\n",
    "print(\"occluded:\", det_results[0]['occluded'][obj_dix])\n",
    "print(\"alpha:\", det_results[0]['alpha'][obj_dix])\n",
    "print(\"bbox:\", det_results[0]['bbox'][obj_dix])\n",
    "print(\"dimensions:\", det_results[0]['dimensions'][obj_dix])\n",
    "print(\"location:\", det_results[0]['location'][obj_dix])\n",
    "print(\"rotation_y:\", det_results[0]['rotation_y'][obj_dix])\n",
    "print(\"score:\", det_results[0]['score'][obj_dix])\n",
    "print(\"boxes_lidar:\", det_results[0]['boxes_lidar'][obj_dix])"
   ]
  },
  {
   "cell_type": "code",
   "execution_count": null,
   "metadata": {},
   "outputs": [],
   "source": [
    "sample_idx = 2000\n",
    "image_dir = \"/dataset/kitti/training/image_2\"\n",
    "image_file = os.path.join(image_dir, det_results[sample_idx]['frame_id']+'.png')\n",
    "image = cv2.imread(image_file)[...,::-1]\n",
    "\n",
    "bboxes = det_results[sample_idx]['bbox']\n",
    "classnames = det_results[sample_idx]['name']\n",
    "scores = det_results[sample_idx]['score']\n",
    "\n",
    "CLASSES = ['Car', 'Pedestrian', 'Cyclist']\n",
    "labels = np.array([CLASSES.index(item) for item in classnames])\n",
    "\n",
    "selected_indicators = scores > 0.3\n",
    "bboxes = bboxes[selected_indicators]\n",
    "labels = labels[selected_indicators]\n",
    "\n",
    "image = cvut.draw_bboxes(image, bboxes, labels=labels, classnames=CLASSES, color=None)\n",
    "plt.figure(figsize=(35,35))\n",
    "plt.imshow(image)\n",
    "plt.show()"
   ]
  },
  {
   "cell_type": "code",
   "execution_count": null,
   "metadata": {},
   "outputs": [],
   "source": []
  }
 ],
 "metadata": {
  "kernelspec": {
   "display_name": "3d",
   "language": "python",
   "name": "3d"
  },
  "language_info": {
   "codemirror_mode": {
    "name": "ipython",
    "version": 3
   },
   "file_extension": ".py",
   "mimetype": "text/x-python",
   "name": "python",
   "nbconvert_exporter": "python",
   "pygments_lexer": "ipython3",
   "version": "3.7.7"
  }
 },
 "nbformat": 4,
 "nbformat_minor": 4
}
