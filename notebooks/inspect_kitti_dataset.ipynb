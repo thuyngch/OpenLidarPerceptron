{
 "cells": [
  {
   "cell_type": "markdown",
   "metadata": {},
   "source": [
    "# Libraries"
   ]
  },
  {
   "cell_type": "code",
   "execution_count": 1,
   "metadata": {},
   "outputs": [
    {
     "name": "stdout",
     "output_type": "stream",
     "text": [
      "/home/thuync/Workspace/OpenLidarPerceptron\n"
     ]
    }
   ],
   "source": [
    "import numpy as np\n",
    "import os, cv2\n",
    "from matplotlib import pyplot as plt\n",
    "\n",
    "from pcdet.utils import common_utils\n",
    "from pcdet.datasets import build_dataloader\n",
    "from pcdet.config import cfg, log_config_to_file, cfg_from_list, cfg_from_yaml_file\n",
    "\n",
    "# Move to the root directory\n",
    "if not 'workdir' in globals():\n",
    "    workdir = os.getcwd()\n",
    "    workdir = \"/\".join(workdir.split('/')[:-1])\n",
    "%cd \"$workdir\"\n",
    "\n",
    "# Create cache folder\n",
    "os.makedirs(\"cache\", exist_ok=True)"
   ]
  },
  {
   "cell_type": "markdown",
   "metadata": {},
   "source": [
    "# Build dataset"
   ]
  },
  {
   "cell_type": "code",
   "execution_count": 4,
   "metadata": {},
   "outputs": [],
   "source": [
    "batch_size = 1\n",
    "workers = 4\n",
    "dist_train = False\n",
    "cfg_file = \"tools/cfgs/kitti_models/pointpillar_gn.yaml\"\n",
    "log_file = \"cache/dataset_debug.txt\"\n",
    "\n",
    "cfg_from_yaml_file(cfg_file, cfg)\n",
    "logger = common_utils.create_logger(log_file, rank=cfg.LOCAL_RANK)"
   ]
  },
  {
   "cell_type": "code",
   "execution_count": 5,
   "metadata": {},
   "outputs": [
    {
     "name": "stderr",
     "output_type": "stream",
     "text": [
      "2020-07-02 09:12:46,729   INFO  Database filter by min points Car: 14357 => 13532\n",
      "2020-07-02 09:12:46,729   INFO  Database filter by min points Car: 14357 => 13532\n",
      "2020-07-02 09:12:46,731   INFO  Database filter by min points Pedestrian: 2207 => 2168\n",
      "2020-07-02 09:12:46,731   INFO  Database filter by min points Pedestrian: 2207 => 2168\n",
      "2020-07-02 09:12:46,732   INFO  Database filter by min points Cyclist: 734 => 705\n",
      "2020-07-02 09:12:46,732   INFO  Database filter by min points Cyclist: 734 => 705\n",
      "2020-07-02 09:12:46,760   INFO  Database filter by difficulty Car: 13532 => 10759\n",
      "2020-07-02 09:12:46,760   INFO  Database filter by difficulty Car: 13532 => 10759\n",
      "2020-07-02 09:12:46,766   INFO  Database filter by difficulty Pedestrian: 2168 => 2075\n",
      "2020-07-02 09:12:46,766   INFO  Database filter by difficulty Pedestrian: 2168 => 2075\n",
      "2020-07-02 09:12:46,768   INFO  Database filter by difficulty Cyclist: 705 => 581\n",
      "2020-07-02 09:12:46,768   INFO  Database filter by difficulty Cyclist: 705 => 581\n",
      "2020-07-02 09:12:46,775   INFO  Loading KITTI dataset\n",
      "2020-07-02 09:12:46,775   INFO  Loading KITTI dataset\n",
      "2020-07-02 09:12:46,886   INFO  Total samples for KITTI dataset: 3712\n",
      "2020-07-02 09:12:46,886   INFO  Total samples for KITTI dataset: 3712\n"
     ]
    },
    {
     "name": "stdout",
     "output_type": "stream",
     "text": [
      "Dataset size: 3712\n",
      "Classnames: ['Car', 'Pedestrian', 'Cyclist']\n"
     ]
    }
   ],
   "source": [
    "train_set, train_loader, train_sampler = build_dataloader(\n",
    "    dataset_cfg=cfg.DATA_CONFIG,\n",
    "    class_names=cfg.CLASS_NAMES,\n",
    "    batch_size=batch_size,\n",
    "    dist=dist_train, workers=workers,\n",
    "    logger=logger,\n",
    "    training=True,\n",
    ")\n",
    "\n",
    "print(\"Dataset size:\", len(train_set))\n",
    "print(\"Classnames:\", train_set.class_names)"
   ]
  },
  {
   "cell_type": "markdown",
   "metadata": {},
   "source": [
    "# Visualize"
   ]
  },
  {
   "cell_type": "code",
   "execution_count": 13,
   "metadata": {},
   "outputs": [
    {
     "name": "stdout",
     "output_type": "stream",
     "text": [
      "Batch components: dict_keys(['points', 'frame_id', 'gt_boxes', 'use_lead_xyz', 'voxels', 'voxel_coords', 'voxel_num_points', 'image_shape'])\n",
      "points: (24687, 4)\n",
      "frame_id: 000000\n",
      "gt_boxes: (38, 8)\n",
      "use_lead_xyz: True\n",
      "voxels: (4228, 32, 4)\n",
      "voxel_coords: (4228, 3)\n",
      "voxel_num_points: (4228,)\n",
      "image_shape: (2,)\n"
     ]
    }
   ],
   "source": [
    "idx = 0\n",
    "data_batch = train_set[idx]\n",
    "print(\"Batch components:\", data_batch.keys())\n",
    "\n",
    "points = data_batch['points']\n",
    "frame_id = data_batch['frame_id']\n",
    "gt_boxes = data_batch['gt_boxes']\n",
    "use_lead_xyz = data_batch['use_lead_xyz']\n",
    "voxels = data_batch['voxels']\n",
    "voxel_coords = data_batch['voxel_coords']\n",
    "voxel_num_points = data_batch['voxel_num_points']\n",
    "image_shape = data_batch['image_shape']\n",
    "\n",
    "for key, val in data_batch.items():\n",
    "    if isinstance(val, (str, bool)):\n",
    "        print(\"{}: {}\".format(key, val))\n",
    "    else:\n",
    "        print(\"{}: {}\".format(key, val.shape))"
   ]
  },
  {
   "cell_type": "code",
   "execution_count": 30,
   "metadata": {},
   "outputs": [
    {
     "name": "stdout",
     "output_type": "stream",
     "text": [
      "[16.957018   3.4763894 -1.0700533  0.12     ]\n",
      "[  0 301  54]\n",
      "[[ 8.73306    8.504156  -1.5780946  0.31     ]\n",
      " [ 8.654741   8.587678  -1.5780946  0.3      ]\n",
      " [ 8.668846   8.547335  -1.5750242  0.36     ]\n",
      " [ 8.708334   8.533     -1.5780946  0.35     ]\n",
      " [ 8.752992   8.49586   -1.5791179  0.37     ]\n",
      " [ 0.         0.         0.         0.       ]\n",
      " [ 0.         0.         0.         0.       ]\n",
      " [ 0.         0.         0.         0.       ]\n",
      " [ 0.         0.         0.         0.       ]\n",
      " [ 0.         0.         0.         0.       ]\n",
      " [ 0.         0.         0.         0.       ]\n",
      " [ 0.         0.         0.         0.       ]\n",
      " [ 0.         0.         0.         0.       ]\n",
      " [ 0.         0.         0.         0.       ]\n",
      " [ 0.         0.         0.         0.       ]\n",
      " [ 0.         0.         0.         0.       ]\n",
      " [ 0.         0.         0.         0.       ]\n",
      " [ 0.         0.         0.         0.       ]\n",
      " [ 0.         0.         0.         0.       ]\n",
      " [ 0.         0.         0.         0.       ]\n",
      " [ 0.         0.         0.         0.       ]\n",
      " [ 0.         0.         0.         0.       ]\n",
      " [ 0.         0.         0.         0.       ]\n",
      " [ 0.         0.         0.         0.       ]\n",
      " [ 0.         0.         0.         0.       ]\n",
      " [ 0.         0.         0.         0.       ]\n",
      " [ 0.         0.         0.         0.       ]\n",
      " [ 0.         0.         0.         0.       ]\n",
      " [ 0.         0.         0.         0.       ]\n",
      " [ 0.         0.         0.         0.       ]\n",
      " [ 0.         0.         0.         0.       ]\n",
      " [ 0.         0.         0.         0.       ]]\n",
      "voxel_coords unique: 1 187 224\n",
      "gt_boxes: [25.187332  24.808327  -0.5687321  3.520522   1.6272181  1.4839411\n",
      "  0.9085964  1.       ]\n"
     ]
    }
   ],
   "source": [
    "point_idx = 100\n",
    "print(points[point_idx])\n",
    "print(voxel_coords[point_idx])\n",
    "print(voxels[point_idx])"
   ]
  },
  {
   "cell_type": "code",
   "execution_count": 31,
   "metadata": {},
   "outputs": [
    {
     "name": "stdout",
     "output_type": "stream",
     "text": [
      "voxel_coords unique: 1 187 224\n",
      "gt_boxes: [25.187332  24.808327  -0.5687321  3.520522   1.6272181  1.4839411\n",
      "  0.9085964  1.       ]\n"
     ]
    }
   ],
   "source": [
    "xs = np.unique(voxel_coords[:,0])\n",
    "ys = np.unique(voxel_coords[:,1])\n",
    "zs = np.unique(voxel_coords[:,2])\n",
    "print(\"voxel_coords unique:\", len(xs), len(ys), len(zs))\n",
    "\n",
    "print(\"gt_boxes:\", gt_boxes[3])"
   ]
  },
  {
   "cell_type": "code",
   "execution_count": null,
   "metadata": {},
   "outputs": [],
   "source": []
  }
 ],
 "metadata": {
  "kernelspec": {
   "display_name": "3d",
   "language": "python",
   "name": "3d"
  },
  "language_info": {
   "codemirror_mode": {
    "name": "ipython",
    "version": 3
   },
   "file_extension": ".py",
   "mimetype": "text/x-python",
   "name": "python",
   "nbconvert_exporter": "python",
   "pygments_lexer": "ipython3",
   "version": "3.7.7"
  }
 },
 "nbformat": 4,
 "nbformat_minor": 4
}
